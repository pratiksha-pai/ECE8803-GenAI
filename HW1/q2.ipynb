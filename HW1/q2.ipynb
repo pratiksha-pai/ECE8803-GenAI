{
 "cells": [
  {
   "cell_type": "markdown",
   "metadata": {},
   "source": [
    "## Import Libraries and Load Data\n",
    "\n",
    "Import the necessary libraries for data manipulation and visualization. We also load the MNIST dataset and binarize the image data."
   ]
  },
  {
   "cell_type": "code",
   "execution_count": 3,
   "metadata": {},
   "outputs": [
    {
     "name": "stderr",
     "output_type": "stream",
     "text": [
      "2023-09-15 16:21:46.140974: I tensorflow/core/util/port.cc:110] oneDNN custom operations are on. You may see slightly different numerical results due to floating-point round-off errors from different computation orders. To turn them off, set the environment variable `TF_ENABLE_ONEDNN_OPTS=0`.\n",
      "2023-09-15 16:21:46.213069: I tensorflow/tsl/cuda/cudart_stub.cc:28] Could not find cuda drivers on your machine, GPU will not be used.\n",
      "2023-09-15 16:21:46.705688: I tensorflow/tsl/cuda/cudart_stub.cc:28] Could not find cuda drivers on your machine, GPU will not be used.\n",
      "2023-09-15 16:21:46.707696: I tensorflow/core/platform/cpu_feature_guard.cc:182] This TensorFlow binary is optimized to use available CPU instructions in performance-critical operations.\n",
      "To enable the following instructions: AVX2 AVX512F AVX512_VNNI FMA, in other operations, rebuild TensorFlow with the appropriate compiler flags.\n",
      "2023-09-15 16:21:49.643918: W tensorflow/compiler/tf2tensorrt/utils/py_utils.cc:38] TF-TRT Warning: Could not find TensorRT\n"
     ]
    }
   ],
   "source": [
    "import numpy as np\n",
    "import matplotlib.pyplot as plt\n",
    "from tensorflow.keras.datasets import mnist"
   ]
  },
  {
   "cell_type": "markdown",
   "metadata": {},
   "source": [
    "## Calculate MLE for Theta (Maximum Likelihood Estimation)\n",
    "\n",
    "Here, we calculate the Maximum Likelihood Estimate (MLE) for theta, which represents the probability of a pixel being white in the MNIST images.\n",
    "\n",
    "We use the formula:\n",
    "\n",
    "\n",
    "$\\theta_{MLE} = \\frac{\\text{Number of times pixel is white}}{\\text{Total number of samples}}$\n",
    "\n",
    "This gives us a 28x28 matrix representing the probability of each pixel being white.\n"
   ]
  },
  {
   "cell_type": "markdown",
   "metadata": {},
   "source": [
    "## Generate Samples Using Bernoulli Distribution\n",
    "\n",
    "In this cell, we generate 10 samples using a Bernoulli distribution based on the calculated `theta_mle`.\n",
    "\n",
    "The Bernoulli distribution is suitable for binary data, and our image data is binarized, making this a good fit.\n"
   ]
  },
  {
   "cell_type": "markdown",
   "metadata": {},
   "source": [
    "(train_images, _), _ = mnist.load_data()\n",
    "train_images = (train_images > 127.5).astype(np.float32)\n",
    "\n",
    "# Calculate MLE for theta (probability of pixel being white)\n",
    "# theta_mle = np.mean(train_images, axis=0) / 255.0\n",
    "theta_mle = np.mean(train_images, axis=0)\n",
    "\n",
    "\n",
    "# Generate 10 samples using Bernoulli distribution\n",
    "samples = np.random.binomial(n=1, p=theta_mle, size=(10, 28, 28))\n",
    "\n",
    "# Visualize the generated samples\n",
    "fig, axes = plt.subplots(1, 10, figsize=(20, 2))\n",
    "\n",
    "for i in range(10):\n",
    "    axes[i].imshow(samples[i], cmap='gray')\n",
    "    axes[i].axis('off')\n",
    "\n",
    "plt.show()"
   ]
  }
 ],
 "metadata": {
  "kernelspec": {
   "display_name": "py310",
   "language": "python",
   "name": "python3"
  },
  "language_info": {
   "codemirror_mode": {
    "name": "ipython",
    "version": 3
   },
   "file_extension": ".py",
   "mimetype": "text/x-python",
   "name": "python",
   "nbconvert_exporter": "python",
   "pygments_lexer": "ipython3",
   "version": "3.10.12"
  },
  "orig_nbformat": 4
 },
 "nbformat": 4,
 "nbformat_minor": 2
}
