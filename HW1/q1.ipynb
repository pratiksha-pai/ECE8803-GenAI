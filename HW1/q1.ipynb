{
 "cells": [
  {
   "cell_type": "markdown",
   "metadata": {},
   "source": [
    "# Black and White Image Generation with a Probabilistic Model\n",
    "\n",
    "In this notebook, we'll develop a probabilistic model that generates 3x3 black and white images. The probability of generating each image will be proportional to the number of black pixels in the image.\n",
    "\n",
    "We will use the Categorical distribution from PyTorch to achieve this."
   ]
  },
  {
   "cell_type": "code",
   "execution_count": 4,
   "metadata": {},
   "outputs": [],
   "source": [
    "## Import Required Libraries\n",
    "import numpy as np\n",
    "import matplotlib.pyplot as plt\n",
    "import torch\n",
    "import torch.distributions as dist"
   ]
  },
  {
   "cell_type": "markdown",
   "metadata": {},
   "source": [
    "Generate All Possible 3x3 Images\n",
    "First, we'll generate all possible 3x3 black and white images."
   ]
  },
  {
   "cell_type": "code",
   "execution_count": 5,
   "metadata": {},
   "outputs": [],
   "source": [
    "total_pixels = 9  # 3x3 image\n",
    "all_images = [np.array([int(x) for x in format(i, '0' + str(total_pixels) + 'b')]).reshape(3, 3) \n",
    "              for i in range(2 ** total_pixels)]\n"
   ]
  },
  {
   "cell_type": "markdown",
   "metadata": {},
   "source": [
    "### Calculate Probabilities\n",
    "Now, we'll calculate probabilities that are proportional to the number of black pixels in each image."
   ]
  },
  {
   "cell_type": "code",
   "execution_count": 8,
   "metadata": {},
   "outputs": [],
   "source": [
    "probs = [np.sum(image) for image in all_images]\n",
    "probs = np.array(probs) / np.sum(probs)"
   ]
  },
  {
   "cell_type": "markdown",
   "metadata": {},
   "source": [
    "### Create the Categorical Distribution\n",
    "We'll use PyTorch's Categorical distribution to sample images based on the calculated probabilities.\n",
    "\n"
   ]
  },
  {
   "cell_type": "code",
   "execution_count": 9,
   "metadata": {},
   "outputs": [],
   "source": [
    "categorical_dist = dist.Categorical(torch.tensor(probs))\n"
   ]
  },
  {
   "cell_type": "markdown",
   "metadata": {},
   "source": [
    "### Sample and Visualize Images\n",
    "Finally, we'll draw five samples and visualize them.\n"
   ]
  },
  {
   "cell_type": "code",
   "execution_count": 10,
   "metadata": {},
   "outputs": [
    {
     "data": {
      "image/png": "[encoded data removed]",
      "text/plain": [
       "<Figure size 1500x300 with 5 Axes>"
      ]
     },
     "metadata": {},
     "output_type": "display_data"
    }
   ],
   "source": [
    "samples = [all_images[categorical_dist.sample().item()] for _ in range(5)]\n",
    "\n",
    "# Visualization\n",
    "fig, axes = plt.subplots(1, 5, figsize=(15, 3))\n",
    "for i, sample in enumerate(samples):\n",
    "    axes[i].imshow(sample, cmap='gray')\n",
    "    axes[i].axis('off')\n",
    "plt.show()\n"
   ]
  },
  {
   "cell_type": "markdown",
   "metadata": {},
   "source": [
    "### Tasks performed until this point \n",
    "1. Imports the required libraries.\n",
    "2. Generates all possible 3x3 black and white images.\n",
    "3. Calculates probabilities proportional to the number of black pixels in each image.\n",
    "4. Creates a Categorical distribution using these probabilities.\n",
    "5. Draws five samples from this distribution and visualizes them."
   ]
  },
  {
   "cell_type": "markdown",
   "metadata": {},
   "source": [
    "# Learning the Data Generation Rule with MLP\n",
    "\n",
    "We no longer know the data generation rule and want to learn it from 200 unique data points. We'll consider the probability of generating each training image as the label and train a Multilayer Perceptron (MLP) to develop a new probabilistic model."
   ]
  },
  {
   "cell_type": "code",
   "execution_count": 11,
   "metadata": {},
   "outputs": [],
   "source": [
    "## Import Required Libraries\n",
    "import random\n",
    "import torch\n",
    "import torch.optim as optim\n",
    "from torch import nn\n",
    "from torch.utils.data import DataLoader, TensorDataset\n",
    "from sklearn.model_selection import train_test_split"
   ]
  },
  {
   "cell_type": "markdown",
   "metadata": {},
   "source": [
    "### Sample 200 Unique Images\n",
    "Let's first sample 200 unique images from our original Categorical distribution."
   ]
  },
  {
   "cell_type": "code",
   "execution_count": 13,
   "metadata": {},
   "outputs": [],
   "source": [
    "unique_samples_index = torch.unique(dist.Categorical(torch.tensor(probs)).sample((512,)), sorted=True)[:200]\n",
    "unique_probs = probs[unique_samples_index]\n",
    "unique_samples = [all_images[i] for i in unique_samples_index]\n"
   ]
  },
  {
   "cell_type": "markdown",
   "metadata": {},
   "source": [
    "### Prepare Data for Training\n"
   ]
  },
  {
   "cell_type": "code",
   "execution_count": 14,
   "metadata": {},
   "outputs": [
    {
     "name": "stderr",
     "output_type": "stream",
     "text": [
      "/tmp/ipykernel_222527/3730610889.py:1: UserWarning: Creating a tensor from a list of numpy.ndarrays is extremely slow. Please consider converting the list to a single numpy.ndarray with numpy.array() before converting to a tensor. (Triggered internally at ../torch/csrc/utils/tensor_new.cpp:245.)\n",
      "  flattened_samples = torch.tensor([img.flatten() for img in unique_samples]).type(torch.FloatTensor)\n"
     ]
    }
   ],
   "source": [
    "flattened_samples = torch.tensor([img.flatten() for img in unique_samples]).type(torch.FloatTensor)\n",
    "labels = torch.tensor(unique_probs).type(torch.FloatTensor)\n",
    "\n",
    "X_train, X_val, y_train, y_val = train_test_split(flattened_samples, labels, test_size=0.2, random_state=42)\n",
    "batch_size = 16\n",
    "train_dataset = TensorDataset(X_train, y_train)\n",
    "train_loader = DataLoader(train_dataset, batch_size=batch_size, shuffle=True)"
   ]
  },
  {
   "cell_type": "markdown",
   "metadata": {},
   "source": [
    "### Define and Train the MLP\n"
   ]
  },
  {
   "cell_type": "code",
   "execution_count": 15,
   "metadata": {},
   "outputs": [],
   "source": [
    "class MLP(nn.Module):\n",
    "    def __init__(self, input_size, hidden_size, output_size):\n",
    "        super(MLP, self).__init__()\n",
    "        self.layers = nn.Sequential(\n",
    "          nn.Linear(input_size, hidden_size),\n",
    "          nn.ReLU(),\n",
    "          nn.Linear(hidden_size, output_size),\n",
    "        )\n",
    "    def forward(self, x):\n",
    "        return self.layers(x)\n",
    "\n",
    "input_size = 9  # 3x3 image\n",
    "hidden_size = 64\n",
    "output_size = 1\n",
    "model = MLP(input_size, hidden_size, output_size)\n",
    "\n",
    "criterion = nn.MSELoss()\n",
    "optimizer = optim.Adam(model.parameters(), lr=0.001)\n",
    "\n",
    "num_epochs = 1000\n",
    "for epoch in range(num_epochs):\n",
    "    model.train()\n",
    "    running_loss = 0.0\n",
    "    for inputs, labels in train_loader:\n",
    "        optimizer.zero_grad()\n",
    "        outputs = model(inputs)\n",
    "        loss = criterion(outputs, labels.view(-1, 1))\n",
    "        loss.backward()\n",
    "        optimizer.step()\n",
    "        running_loss += loss.item()\n"
   ]
  },
  {
   "cell_type": "markdown",
   "metadata": {},
   "source": [
    "### Develop a New Probabilistic Model\n"
   ]
  },
  {
   "cell_type": "code",
   "execution_count": 17,
   "metadata": {},
   "outputs": [
    {
     "data": {
      "image/png": "[encoded data removed]",
      "text/plain": [
       "<Figure size 1500x300 with 5 Axes>"
      ]
     },
     "metadata": {},
     "output_type": "display_data"
    }
   ],
   "source": [
    "# Develop a New Probabilistic Model\n",
    "with torch.no_grad():\n",
    "    all_flattened_images = torch.tensor([img.flatten() for img in all_images]).type(torch.FloatTensor)\n",
    "    predicted_probs = model(all_flattened_images).flatten()  # Flatten the tensor to one dimension\n",
    "    normalized_predicted_probs = torch.nn.functional.softmax(predicted_probs, dim=0)  # No need for .numpy()\n",
    "\n",
    "# Create new Categorical distribution with normalized predicted probabilities\n",
    "new_categorical_dist = dist.Categorical(normalized_predicted_probs)\n",
    "\n",
    "# Sample and visualize new images\n",
    "new_samples = [all_images[new_categorical_dist.sample().item()] for _ in range(5)]\n",
    "\n",
    "# Visualization\n",
    "fig, axes = plt.subplots(1, 5, figsize=(15, 3))\n",
    "for i, sample in enumerate(new_samples):\n",
    "    axes[i].imshow(sample, cmap='gray')\n",
    "    axes[i].axis('off')\n",
    "plt.show()\n"
   ]
  },
  {
   "cell_type": "markdown",
   "metadata": {},
   "source": [
    "# Learning the Data Generation Rule for 28x28 Images with MLP\n",
    "\n",
    "This notebook aims to extend the previous approach to 28x28 dimensions. We'll draw 200 random samples, train an MLP, and discuss why this strategy does not scale well for higher dimensions.\n",
    "\n"
   ]
  },
  {
   "cell_type": "code",
   "execution_count": 18,
   "metadata": {},
   "outputs": [],
   "source": [
    "\n",
    "## Import Required Libraries\n",
    "import numpy as np\n",
    "import matplotlib.pyplot as plt\n",
    "import torch\n",
    "import torch.optim as optim\n",
    "from torch import nn\n",
    "from torch.utils.data import DataLoader, TensorDataset\n",
    "from sklearn.model_selection import train_test_split"
   ]
  },
  {
   "cell_type": "code",
   "execution_count": 20,
   "metadata": {},
   "outputs": [],
   "source": [
    "#Initialize Parameters\n",
    "width, height = 28, 28\n",
    "total_pixels = width * height\n",
    "input_size = total_pixels\n",
    "hidden_size = 64\n",
    "output_size = 1\n"
   ]
  },
  {
   "cell_type": "markdown",
   "metadata": {},
   "source": [
    "### Draw 200 Random Samples\n",
    "Here, we'll employ a categorical distribution to generate 200 random 28x28 images. "
   ]
  },
  {
   "cell_type": "code",
   "execution_count": 23,
   "metadata": {},
   "outputs": [],
   "source": [
    "\n",
    "image_size = (28, 28)\n",
    "\n",
    "# Generate probabilities proportional to the number of black pixels\n",
    "total = sum(range(1, (28*28) + 1))\n",
    "probabilities = [i / total for i in range(28 * 28)]\n",
    "probabilities = torch.tensor(probabilities)\n",
    "\n",
    "categorical_dist = dist.Categorical(probabilities)\n",
    "\n",
    "\n",
    "# Draw 5 samples from the distribution instead of 200\n",
    "num_samples = 5\n",
    "samples = []\n",
    "\n",
    "for _ in range(num_samples):\n",
    "    num_black_pixels = categorical_dist.sample()\n",
    "    image = torch.zeros(*image_size)\n",
    "    black_indices = torch.randperm(image_size[0] * image_size[1])[:num_black_pixels]\n",
    "    image.view(-1)[black_indices] = 1\n",
    "    samples.append(image)\n"
   ]
  },
  {
   "cell_type": "code",
   "execution_count": 24,
   "metadata": {},
   "outputs": [
    {
     "data": {
      "image/png": "[encoded data removed]",
      "text/plain": [
       "<Figure size 1200x300 with 5 Axes>"
      ]
     },
     "metadata": {},
     "output_type": "display_data"
    }
   ],
   "source": [
    "plt.figure(figsize=(12, 3))\n",
    "for i, sample in enumerate(samples):\n",
    "    plt.subplot(1, num_samples, i + 1)\n",
    "    plt.imshow(sample, cmap='gray', vmin=0, vmax=1)\n",
    "    plt.axis('off')\n",
    "    plt.title(f'Sample {i + 1}')\n",
    "    \n",
    "plt.show()"
   ]
  },
  {
   "cell_type": "markdown",
   "metadata": {},
   "source": [
    "### Define and Train the MLP\n"
   ]
  },
  {
   "cell_type": "code",
   "execution_count": 29,
   "metadata": {},
   "outputs": [],
   "source": [
    "class MLP(nn.Module):\n",
    "    def __init__(self, input_size, hidden_size, output_size):\n",
    "        super(MLP, self).__init__()\n",
    "        self.layers = nn.Sequential(\n",
    "          nn.Linear(input_size, hidden_size),\n",
    "          nn.ReLU(),\n",
    "          nn.Linear(hidden_size, output_size),\n",
    "        )\n",
    "    def forward(self, x):\n",
    "        return self.layers(x)\n",
    "\n",
    "model = MLP(input_size, hidden_size, output_size)\n",
    "\n",
    "criterion = nn.MSELoss()\n",
    "optimizer = optim.Adam(model.parameters(), lr=0.001)\n",
    "\n",
    "num_epochs = 1000\n"
   ]
  },
  {
   "cell_type": "code",
   "execution_count": 32,
   "metadata": {},
   "outputs": [
    {
     "name": "stdout",
     "output_type": "stream",
     "text": [
      "torch.Size([200, 28, 28])\n",
      "torch.Size([200])\n",
      "Training complete.\n"
     ]
    }
   ],
   "source": [
    "\n",
    "# Generate some mock data (replace this with your actual data)\n",
    "N = 200  # Number of samples\n",
    "X = torch.randn(N, 28*28)  # 28x28 flattened to 784\n",
    "y = torch.randn(N, 1)\n",
    "\n",
    "# Split data\n",
    "X_train, X_val, y_train, y_val = train_test_split(X, y, test_size=0.2, random_state=42)\n",
    "\n",
    "# Create DataLoader\n",
    "batch_size = 16\n",
    "train_dataset = TensorDataset(X_train, y_train)\n",
    "train_loader = DataLoader(train_dataset, batch_size=batch_size, shuffle=True)\n",
    "\n",
    "# Initialize MLP, Loss, and Optimizer\n",
    "input_size = 28 * 28\n",
    "hidden_size = 64\n",
    "output_size = 1\n",
    "\n",
    "model = MLP(input_size, hidden_size, output_size)\n",
    "criterion = nn.MSELoss()\n",
    "optimizer = optim.Adam(model.parameters(), lr=0.001)\n",
    "\n",
    "# Training Loop\n",
    "num_epochs = 1000\n",
    "for epoch in range(num_epochs):\n",
    "    for batch_idx, (data, target) in enumerate(train_loader):\n",
    "        optimizer.zero_grad()\n",
    "        output = model(data)\n",
    "        loss = criterion(output, target)\n",
    "        loss.backward()\n",
    "        optimizer.step()\n",
    "    # if epoch % 100 == 0:\n",
    "    #     print(f\"Epoch [{epoch+1}/{num_epochs}], Loss: {loss.item():.4f}\")\n",
    "\n",
    "print(\"Training complete.\")"
   ]
  },
  {
   "cell_type": "code",
   "execution_count": null,
   "metadata": {},
   "outputs": [],
   "source": [
    "# Validation loop\n",
    "total_pixels = 28*28\n",
    "all_images = [np.array([int(x) for x in format(i, '0' + str(total_pixels) + 'b')]).reshape(28, 28) \n",
    "              for i in range(2 ** total_pixels)]\n",
    "print(all_images[0:10])\n",
    "model.eval()\n",
    "with torch.no_grad():\n",
    "    mlp_samples = []\n",
    "    all_probabilities = []\n",
    "    num_pixels = []\n",
    "    for image in all_images:\n",
    "        all_probabilities.append(float(model(torch.FloatTensor(image).view(-1, input_size))))\n",
    "        num_pixels.append(np.count_nonzero(image == 0))\n",
    "        if np.count_nonzero(image == 0) == 0:\n",
    "            print(float(model(torch.FloatTensor(image).view(-1, input_size))))\n",
    "    sum_probabilities = {}\n",
    "    count_occurrences = {}\n",
    "    for num_pixel, probability in zip(num_pixels, all_probabilities):\n",
    "        if num_pixel in sum_probabilities:\n",
    "            sum_probabilities[num_pixel] += probability\n",
    "            count_occurrences[num_pixel] += 1\n",
    "        else:\n",
    "            sum_probabilities[num_pixel] = probability\n",
    "            count_occurrences[num_pixel] = 1\n",
    "\n",
    "# Calculate the average probabilities for each unique value\n",
    "average_probabilities = {num_pixel: sum_probabilities[num_pixel] / count_occurrences[num_pixel] for num_pixel in sum_probabilities}\n",
    "print(average_probabilities)    \n"
   ]
  },
  {
   "cell_type": "markdown",
   "metadata": {},
   "source": [
    "### Challenges in Scaling the MLP for High-Dimensional Generative Modeling\n",
    "\n",
    "##### 1. Memory Limitations\n",
    "Generating all possible $2^{28 \\times 28}$ image combinations is computationally infeasible and kernel terminates due to out-of-memory errors.\n",
    "\n",
    "##### 2. Model Complexity\n",
    "The MLP architecture is too simplistic to capture the intricate, high-dimensional data distribution. The model fails to capture the underlying data distribution effectively.\n",
    "\n",
    "##### 3. Inefficiency of Rejection Sampling\n",
    "The model's predictions are not aligning well with the true data distribution. A 20-minute run of a rejection sampling algorithm failed to produce any samples that met the acceptance criteria.\n",
    "\n",
    "These limitations highlight the challenges of using a rudimentary MLP and naive sampling methods for high-dimensional generative tasks.\n"
   ]
  },
  {
   "cell_type": "markdown",
   "metadata": {},
   "source": []
  }
 ],
 "metadata": {
  "kernelspec": {
   "display_name": "py310",
   "language": "python",
   "name": "python3"
  },
  "language_info": {
   "codemirror_mode": {
    "name": "ipython",
    "version": 3
   },
   "file_extension": ".py",
   "mimetype": "text/x-python",
   "name": "python",
   "nbconvert_exporter": "python",
   "pygments_lexer": "ipython3",
   "version": "3.10.12"
  },
  "orig_nbformat": 4
 },
 "nbformat": 4,
 "nbformat_minor": 2
}
