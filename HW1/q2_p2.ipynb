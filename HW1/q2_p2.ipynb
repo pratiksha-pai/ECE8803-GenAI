{
 "cells": [
  {
   "cell_type": "markdown",
   "metadata": {},
   "source": []
  },
  {
   "cell_type": "code",
   "execution_count": 3,
   "metadata": {},
   "outputs": [],
   "source": []
  },
  {
   "cell_type": "markdown",
   "metadata": {},
   "source": []
  },
  {
   "cell_type": "code",
   "execution_count": 4,
   "metadata": {},
   "outputs": [
    {
     "ename": "NameError",
     "evalue": "name 'dist' is not defined",
     "output_type": "error",
     "traceback": [
      "\u001b[0;31m---------------------------------------------------------------------------\u001b[0m",
      "\u001b[0;31mNameError\u001b[0m                                 Traceback (most recent call last)",
      "Cell \u001b[0;32mIn[4], line 1\u001b[0m\n\u001b[0;32m----> 1\u001b[0m unique_samples_index \u001b[39m=\u001b[39m torch\u001b[39m.\u001b[39munique(dist\u001b[39m.\u001b[39mCategorical(torch\u001b[39m.\u001b[39mtensor(probs))\u001b[39m.\u001b[39msample((\u001b[39m512\u001b[39m,)), \u001b[39msorted\u001b[39m\u001b[39m=\u001b[39m\u001b[39mTrue\u001b[39;00m)[:\u001b[39m200\u001b[39m]\n\u001b[1;32m      2\u001b[0m unique_probs \u001b[39m=\u001b[39m probs[unique_samples_index]\n\u001b[1;32m      3\u001b[0m unique_samples \u001b[39m=\u001b[39m [all_images[i] \u001b[39mfor\u001b[39;00m i \u001b[39min\u001b[39;00m unique_samples_index]\n",
      "\u001b[0;31mNameError\u001b[0m: name 'dist' is not defined"
     ]
    }
   ],
   "source": []
  },
  {
   "cell_type": "markdown",
   "metadata": {},
   "source": []
  }
 ],
 "metadata": {
  "kernelspec": {
   "display_name": "py310",
   "language": "python",
   "name": "python3"
  },
  "language_info": {
   "codemirror_mode": {
    "name": "ipython",
    "version": 3
   },
   "file_extension": ".py",
   "mimetype": "text/x-python",
   "name": "python",
   "nbconvert_exporter": "python",
   "pygments_lexer": "ipython3",
   "version": "3.10.12"
  },
  "orig_nbformat": 4
 },
 "nbformat": 4,
 "nbformat_minor": 2
}
